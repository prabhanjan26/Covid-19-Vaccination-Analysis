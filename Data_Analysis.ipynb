{
 "cells": [
  {
   "cell_type": "code",
   "execution_count": 1,
   "id": "005eaa45-e56a-4ec4-a890-9c45e29ee549",
   "metadata": {},
   "outputs": [],
   "source": [
    "import pandas as pd\n",
    "import matplotlib.pyplot as plt\n",
    "import seaborn as sns\n"
   ]
  },
  {
   "cell_type": "code",
   "execution_count": 2,
   "id": "6f8412f9-3d00-458b-aefd-09485454cab7",
   "metadata": {},
   "outputs": [
    {
     "data": {
      "text/html": [
       "<div>\n",
       "<style scoped>\n",
       "    .dataframe tbody tr th:only-of-type {\n",
       "        vertical-align: middle;\n",
       "    }\n",
       "\n",
       "    .dataframe tbody tr th {\n",
       "        vertical-align: top;\n",
       "    }\n",
       "\n",
       "    .dataframe thead th {\n",
       "        text-align: right;\n",
       "    }\n",
       "</style>\n",
       "<table border=\"1\" class=\"dataframe\">\n",
       "  <thead>\n",
       "    <tr style=\"text-align: right;\">\n",
       "      <th></th>\n",
       "      <th>location</th>\n",
       "      <th>date</th>\n",
       "      <th>vaccine</th>\n",
       "      <th>total_vaccinations</th>\n",
       "    </tr>\n",
       "  </thead>\n",
       "  <tbody>\n",
       "    <tr>\n",
       "      <th>0</th>\n",
       "      <td>Argentina</td>\n",
       "      <td>2020-12-29</td>\n",
       "      <td>Moderna</td>\n",
       "      <td>2</td>\n",
       "    </tr>\n",
       "    <tr>\n",
       "      <th>1</th>\n",
       "      <td>Argentina</td>\n",
       "      <td>2020-12-29</td>\n",
       "      <td>Oxford/AstraZeneca</td>\n",
       "      <td>3</td>\n",
       "    </tr>\n",
       "    <tr>\n",
       "      <th>2</th>\n",
       "      <td>Argentina</td>\n",
       "      <td>2020-12-29</td>\n",
       "      <td>Sinopharm/Beijing</td>\n",
       "      <td>1</td>\n",
       "    </tr>\n",
       "    <tr>\n",
       "      <th>3</th>\n",
       "      <td>Argentina</td>\n",
       "      <td>2020-12-29</td>\n",
       "      <td>Sputnik V</td>\n",
       "      <td>20481</td>\n",
       "    </tr>\n",
       "    <tr>\n",
       "      <th>4</th>\n",
       "      <td>Argentina</td>\n",
       "      <td>2020-12-30</td>\n",
       "      <td>Moderna</td>\n",
       "      <td>2</td>\n",
       "    </tr>\n",
       "    <tr>\n",
       "      <th>...</th>\n",
       "      <td>...</td>\n",
       "      <td>...</td>\n",
       "      <td>...</td>\n",
       "      <td>...</td>\n",
       "    </tr>\n",
       "    <tr>\n",
       "      <th>35618</th>\n",
       "      <td>European Union</td>\n",
       "      <td>2022-03-29</td>\n",
       "      <td>Oxford/AstraZeneca</td>\n",
       "      <td>67403106</td>\n",
       "    </tr>\n",
       "    <tr>\n",
       "      <th>35619</th>\n",
       "      <td>European Union</td>\n",
       "      <td>2022-03-29</td>\n",
       "      <td>Pfizer/BioNTech</td>\n",
       "      <td>600519998</td>\n",
       "    </tr>\n",
       "    <tr>\n",
       "      <th>35620</th>\n",
       "      <td>European Union</td>\n",
       "      <td>2022-03-29</td>\n",
       "      <td>Sinopharm/Beijing</td>\n",
       "      <td>2301516</td>\n",
       "    </tr>\n",
       "    <tr>\n",
       "      <th>35621</th>\n",
       "      <td>European Union</td>\n",
       "      <td>2022-03-29</td>\n",
       "      <td>Sinovac</td>\n",
       "      <td>1809</td>\n",
       "    </tr>\n",
       "    <tr>\n",
       "      <th>35622</th>\n",
       "      <td>European Union</td>\n",
       "      <td>2022-03-29</td>\n",
       "      <td>Sputnik V</td>\n",
       "      <td>1845103</td>\n",
       "    </tr>\n",
       "  </tbody>\n",
       "</table>\n",
       "<p>35623 rows × 4 columns</p>\n",
       "</div>"
      ],
      "text/plain": [
       "             location        date             vaccine  total_vaccinations\n",
       "0           Argentina  2020-12-29             Moderna                   2\n",
       "1           Argentina  2020-12-29  Oxford/AstraZeneca                   3\n",
       "2           Argentina  2020-12-29   Sinopharm/Beijing                   1\n",
       "3           Argentina  2020-12-29           Sputnik V               20481\n",
       "4           Argentina  2020-12-30             Moderna                   2\n",
       "...               ...         ...                 ...                 ...\n",
       "35618  European Union  2022-03-29  Oxford/AstraZeneca            67403106\n",
       "35619  European Union  2022-03-29     Pfizer/BioNTech           600519998\n",
       "35620  European Union  2022-03-29   Sinopharm/Beijing             2301516\n",
       "35621  European Union  2022-03-29             Sinovac                1809\n",
       "35622  European Union  2022-03-29           Sputnik V             1845103\n",
       "\n",
       "[35623 rows x 4 columns]"
      ]
     },
     "execution_count": 2,
     "metadata": {},
     "output_type": "execute_result"
    }
   ],
   "source": [
    "df = pd.read_csv(r\"C:\\Users\\bhanj\\python\\Project101\\country_vaccinations_by_manufacturer.csv\")\n",
    "df"
   ]
  },
  {
   "cell_type": "code",
   "execution_count": 3,
   "id": "0e5dbee4-eb7f-4516-8d59-4d2b3f3bd4dd",
   "metadata": {},
   "outputs": [],
   "source": [
    "# Dataset Exploration"
   ]
  },
  {
   "cell_type": "code",
   "execution_count": 4,
   "id": "f8219eea-e878-426a-a8df-90c81f290729",
   "metadata": {},
   "outputs": [
    {
     "data": {
      "text/html": [
       "<div>\n",
       "<style scoped>\n",
       "    .dataframe tbody tr th:only-of-type {\n",
       "        vertical-align: middle;\n",
       "    }\n",
       "\n",
       "    .dataframe tbody tr th {\n",
       "        vertical-align: top;\n",
       "    }\n",
       "\n",
       "    .dataframe thead th {\n",
       "        text-align: right;\n",
       "    }\n",
       "</style>\n",
       "<table border=\"1\" class=\"dataframe\">\n",
       "  <thead>\n",
       "    <tr style=\"text-align: right;\">\n",
       "      <th></th>\n",
       "      <th>location</th>\n",
       "      <th>date</th>\n",
       "      <th>vaccine</th>\n",
       "      <th>total_vaccinations</th>\n",
       "    </tr>\n",
       "  </thead>\n",
       "  <tbody>\n",
       "    <tr>\n",
       "      <th>0</th>\n",
       "      <td>Argentina</td>\n",
       "      <td>2020-12-29</td>\n",
       "      <td>Moderna</td>\n",
       "      <td>2</td>\n",
       "    </tr>\n",
       "    <tr>\n",
       "      <th>1</th>\n",
       "      <td>Argentina</td>\n",
       "      <td>2020-12-29</td>\n",
       "      <td>Oxford/AstraZeneca</td>\n",
       "      <td>3</td>\n",
       "    </tr>\n",
       "    <tr>\n",
       "      <th>2</th>\n",
       "      <td>Argentina</td>\n",
       "      <td>2020-12-29</td>\n",
       "      <td>Sinopharm/Beijing</td>\n",
       "      <td>1</td>\n",
       "    </tr>\n",
       "    <tr>\n",
       "      <th>3</th>\n",
       "      <td>Argentina</td>\n",
       "      <td>2020-12-29</td>\n",
       "      <td>Sputnik V</td>\n",
       "      <td>20481</td>\n",
       "    </tr>\n",
       "    <tr>\n",
       "      <th>4</th>\n",
       "      <td>Argentina</td>\n",
       "      <td>2020-12-30</td>\n",
       "      <td>Moderna</td>\n",
       "      <td>2</td>\n",
       "    </tr>\n",
       "    <tr>\n",
       "      <th>5</th>\n",
       "      <td>Argentina</td>\n",
       "      <td>2020-12-30</td>\n",
       "      <td>Oxford/AstraZeneca</td>\n",
       "      <td>3</td>\n",
       "    </tr>\n",
       "    <tr>\n",
       "      <th>6</th>\n",
       "      <td>Argentina</td>\n",
       "      <td>2020-12-30</td>\n",
       "      <td>Sinopharm/Beijing</td>\n",
       "      <td>1</td>\n",
       "    </tr>\n",
       "    <tr>\n",
       "      <th>7</th>\n",
       "      <td>Argentina</td>\n",
       "      <td>2020-12-30</td>\n",
       "      <td>Sputnik V</td>\n",
       "      <td>40583</td>\n",
       "    </tr>\n",
       "    <tr>\n",
       "      <th>8</th>\n",
       "      <td>Argentina</td>\n",
       "      <td>2020-12-31</td>\n",
       "      <td>Moderna</td>\n",
       "      <td>2</td>\n",
       "    </tr>\n",
       "    <tr>\n",
       "      <th>9</th>\n",
       "      <td>Argentina</td>\n",
       "      <td>2020-12-31</td>\n",
       "      <td>Oxford/AstraZeneca</td>\n",
       "      <td>3</td>\n",
       "    </tr>\n",
       "  </tbody>\n",
       "</table>\n",
       "</div>"
      ],
      "text/plain": [
       "    location        date             vaccine  total_vaccinations\n",
       "0  Argentina  2020-12-29             Moderna                   2\n",
       "1  Argentina  2020-12-29  Oxford/AstraZeneca                   3\n",
       "2  Argentina  2020-12-29   Sinopharm/Beijing                   1\n",
       "3  Argentina  2020-12-29           Sputnik V               20481\n",
       "4  Argentina  2020-12-30             Moderna                   2\n",
       "5  Argentina  2020-12-30  Oxford/AstraZeneca                   3\n",
       "6  Argentina  2020-12-30   Sinopharm/Beijing                   1\n",
       "7  Argentina  2020-12-30           Sputnik V               40583\n",
       "8  Argentina  2020-12-31             Moderna                   2\n",
       "9  Argentina  2020-12-31  Oxford/AstraZeneca                   3"
      ]
     },
     "execution_count": 4,
     "metadata": {},
     "output_type": "execute_result"
    }
   ],
   "source": [
    "df.head(10)"
   ]
  },
  {
   "cell_type": "code",
   "execution_count": 5,
   "id": "99243c04-a3b4-4990-b1e5-15cc29ae2446",
   "metadata": {},
   "outputs": [
    {
     "data": {
      "text/plain": [
       "(35623, 4)"
      ]
     },
     "execution_count": 5,
     "metadata": {},
     "output_type": "execute_result"
    }
   ],
   "source": [
    "df.shape\n",
    "## (35623, 4)"
   ]
  },
  {
   "cell_type": "code",
   "execution_count": 6,
   "id": "3a5dc612-d9aa-46f8-a085-9739ca2b6765",
   "metadata": {},
   "outputs": [
    {
     "name": "stdout",
     "output_type": "stream",
     "text": [
      "<class 'pandas.core.frame.DataFrame'>\n",
      "RangeIndex: 35623 entries, 0 to 35622\n",
      "Data columns (total 4 columns):\n",
      " #   Column              Non-Null Count  Dtype \n",
      "---  ------              --------------  ----- \n",
      " 0   location            35623 non-null  object\n",
      " 1   date                35623 non-null  object\n",
      " 2   vaccine             35623 non-null  object\n",
      " 3   total_vaccinations  35623 non-null  int64 \n",
      "dtypes: int64(1), object(3)\n",
      "memory usage: 1.1+ MB\n"
     ]
    }
   ],
   "source": [
    "df.info()"
   ]
  },
  {
   "cell_type": "code",
   "execution_count": 7,
   "id": "4267114a-02b8-4fa8-b9bb-27f59bc93d3c",
   "metadata": {},
   "outputs": [
    {
     "data": {
      "text/plain": [
       "location                 43\n",
       "date                    473\n",
       "vaccine                  10\n",
       "total_vaccinations    29210\n",
       "dtype: int64"
      ]
     },
     "execution_count": 7,
     "metadata": {},
     "output_type": "execute_result"
    }
   ],
   "source": [
    "df.nunique()\n",
    "## 43 countries, 10 vaccine company"
   ]
  },
  {
   "cell_type": "code",
   "execution_count": 8,
   "id": "0e97bdc6-e896-4b02-84b4-a4918f06c373",
   "metadata": {},
   "outputs": [
    {
     "data": {
      "text/plain": [
       "location              0\n",
       "date                  0\n",
       "vaccine               0\n",
       "total_vaccinations    0\n",
       "dtype: int64"
      ]
     },
     "execution_count": 8,
     "metadata": {},
     "output_type": "execute_result"
    }
   ],
   "source": [
    "df.isnull().sum()\n",
    "## no missing values"
   ]
  },
  {
   "cell_type": "code",
   "execution_count": 9,
   "id": "e90663ae-f487-43af-8a7a-14c2c7e178a0",
   "metadata": {},
   "outputs": [],
   "source": [
    "# 2. Basic Descriptive Analysis"
   ]
  },
  {
   "cell_type": "code",
   "execution_count": 10,
   "id": "17cb8e53-cd9b-4e65-b365-badd02788401",
   "metadata": {},
   "outputs": [
    {
     "data": {
      "text/plain": [
       "43"
      ]
     },
     "execution_count": 10,
     "metadata": {},
     "output_type": "execute_result"
    }
   ],
   "source": [
    "df[\"location\"].nunique()\n",
    "## unique country"
   ]
  },
  {
   "cell_type": "code",
   "execution_count": 11,
   "id": "98c31fe1-2bf6-49c2-9b68-2a3f258d5e9b",
   "metadata": {},
   "outputs": [
    {
     "data": {
      "text/plain": [
       "10"
      ]
     },
     "execution_count": 11,
     "metadata": {},
     "output_type": "execute_result"
    }
   ],
   "source": [
    "df[\"vaccine\"].nunique()\n",
    "##unique vaccine"
   ]
  },
  {
   "cell_type": "code",
   "execution_count": 12,
   "id": "dac1a5a5-1191-4cb8-abfd-16acb9907e84",
   "metadata": {},
   "outputs": [
    {
     "data": {
      "text/plain": [
       "'2020-12-04'"
      ]
     },
     "execution_count": 12,
     "metadata": {},
     "output_type": "execute_result"
    }
   ],
   "source": [
    "min(df[\"date\"])"
   ]
  },
  {
   "cell_type": "code",
   "execution_count": 13,
   "id": "94457f3e-f5b7-479f-bec2-9dc1e4ef5fd2",
   "metadata": {},
   "outputs": [
    {
     "data": {
      "text/plain": [
       "'2022-03-30'"
      ]
     },
     "execution_count": 13,
     "metadata": {},
     "output_type": "execute_result"
    }
   ],
   "source": [
    "max(df[\"date\"])"
   ]
  },
  {
   "cell_type": "code",
   "execution_count": 14,
   "id": "7e28a351-e5c2-4974-870f-c5fec96aff56",
   "metadata": {},
   "outputs": [
    {
     "data": {
      "text/html": [
       "<div>\n",
       "<style scoped>\n",
       "    .dataframe tbody tr th:only-of-type {\n",
       "        vertical-align: middle;\n",
       "    }\n",
       "\n",
       "    .dataframe tbody tr th {\n",
       "        vertical-align: top;\n",
       "    }\n",
       "\n",
       "    .dataframe thead th {\n",
       "        text-align: right;\n",
       "    }\n",
       "</style>\n",
       "<table border=\"1\" class=\"dataframe\">\n",
       "  <thead>\n",
       "    <tr style=\"text-align: right;\">\n",
       "      <th></th>\n",
       "      <th>date</th>\n",
       "    </tr>\n",
       "    <tr>\n",
       "      <th>location</th>\n",
       "      <th></th>\n",
       "    </tr>\n",
       "  </thead>\n",
       "  <tbody>\n",
       "    <tr>\n",
       "      <th>European Union</th>\n",
       "      <td>4122</td>\n",
       "    </tr>\n",
       "    <tr>\n",
       "      <th>Argentina</th>\n",
       "      <td>2629</td>\n",
       "    </tr>\n",
       "    <tr>\n",
       "      <th>Germany</th>\n",
       "      <td>2290</td>\n",
       "    </tr>\n",
       "    <tr>\n",
       "      <th>South Korea</th>\n",
       "      <td>1985</td>\n",
       "    </tr>\n",
       "    <tr>\n",
       "      <th>Latvia</th>\n",
       "      <td>1664</td>\n",
       "    </tr>\n",
       "  </tbody>\n",
       "</table>\n",
       "</div>"
      ],
      "text/plain": [
       "                date\n",
       "location            \n",
       "European Union  4122\n",
       "Argentina       2629\n",
       "Germany         2290\n",
       "South Korea     1985\n",
       "Latvia          1664"
      ]
     },
     "execution_count": 14,
     "metadata": {},
     "output_type": "execute_result"
    }
   ],
   "source": [
    "df.groupby(\"location\").agg({\"date\": \"count\"}).sort_values(by = \"date\" , ascending = False).head()\n",
    "# df.groupby(\"location\")[\"date\"].count().sort_values(ascending=False)\n",
    "# countries with highest no. of records\n"
   ]
  },
  {
   "cell_type": "code",
   "execution_count": 15,
   "id": "8b989bc1-0837-4af3-a433-28e728e06c73",
   "metadata": {},
   "outputs": [],
   "source": [
    "# 3. Country-Level Insights"
   ]
  },
  {
   "cell_type": "code",
   "execution_count": 16,
   "id": "dd9db643-a803-41ce-ae7c-5910e17d8e28",
   "metadata": {},
   "outputs": [
    {
     "data": {
      "text/html": [
       "<div>\n",
       "<style scoped>\n",
       "    .dataframe tbody tr th:only-of-type {\n",
       "        vertical-align: middle;\n",
       "    }\n",
       "\n",
       "    .dataframe tbody tr th {\n",
       "        vertical-align: top;\n",
       "    }\n",
       "\n",
       "    .dataframe thead th {\n",
       "        text-align: right;\n",
       "    }\n",
       "</style>\n",
       "<table border=\"1\" class=\"dataframe\">\n",
       "  <thead>\n",
       "    <tr style=\"text-align: right;\">\n",
       "      <th></th>\n",
       "      <th>location</th>\n",
       "      <th>total_vaccinations</th>\n",
       "    </tr>\n",
       "  </thead>\n",
       "  <tbody>\n",
       "    <tr>\n",
       "      <th>0</th>\n",
       "      <td>European Union</td>\n",
       "      <td>193020139251</td>\n",
       "    </tr>\n",
       "    <tr>\n",
       "      <th>1</th>\n",
       "      <td>United States</td>\n",
       "      <td>139944068653</td>\n",
       "    </tr>\n",
       "    <tr>\n",
       "      <th>2</th>\n",
       "      <td>Germany</td>\n",
       "      <td>38982830332</td>\n",
       "    </tr>\n",
       "    <tr>\n",
       "      <th>3</th>\n",
       "      <td>France</td>\n",
       "      <td>32177039372</td>\n",
       "    </tr>\n",
       "    <tr>\n",
       "      <th>4</th>\n",
       "      <td>Italy</td>\n",
       "      <td>28306588441</td>\n",
       "    </tr>\n",
       "  </tbody>\n",
       "</table>\n",
       "</div>"
      ],
      "text/plain": [
       "         location  total_vaccinations\n",
       "0  European Union        193020139251\n",
       "1   United States        139944068653\n",
       "2         Germany         38982830332\n",
       "3          France         32177039372\n",
       "4           Italy         28306588441"
      ]
     },
     "execution_count": 16,
     "metadata": {},
     "output_type": "execute_result"
    }
   ],
   "source": [
    "vaccination_by_country = df.groupby(\"location\")[\"total_vaccinations\"].sum().sort_values(ascending = False).reset_index()\n",
    "vaccination_by_country.head(5)\n",
    "# Top 5 countries by total vaccinations."
   ]
  },
  {
   "cell_type": "code",
   "execution_count": 17,
   "id": "dfe61ab1-d2d0-4baa-8995-21ce0498e44d",
   "metadata": {},
   "outputs": [
    {
     "data": {
      "text/html": [
       "<div>\n",
       "<style scoped>\n",
       "    .dataframe tbody tr th:only-of-type {\n",
       "        vertical-align: middle;\n",
       "    }\n",
       "\n",
       "    .dataframe tbody tr th {\n",
       "        vertical-align: top;\n",
       "    }\n",
       "\n",
       "    .dataframe thead th {\n",
       "        text-align: right;\n",
       "    }\n",
       "</style>\n",
       "<table border=\"1\" class=\"dataframe\">\n",
       "  <thead>\n",
       "    <tr style=\"text-align: right;\">\n",
       "      <th></th>\n",
       "      <th>location</th>\n",
       "      <th>total_vaccinations</th>\n",
       "      <th>percentage_vaccination</th>\n",
       "    </tr>\n",
       "  </thead>\n",
       "  <tbody>\n",
       "    <tr>\n",
       "      <th>0</th>\n",
       "      <td>European Union</td>\n",
       "      <td>193020139251</td>\n",
       "      <td>35.922608</td>\n",
       "    </tr>\n",
       "    <tr>\n",
       "      <th>1</th>\n",
       "      <td>United States</td>\n",
       "      <td>139944068653</td>\n",
       "      <td>26.044723</td>\n",
       "    </tr>\n",
       "    <tr>\n",
       "      <th>2</th>\n",
       "      <td>Germany</td>\n",
       "      <td>38982830332</td>\n",
       "      <td>7.255020</td>\n",
       "    </tr>\n",
       "    <tr>\n",
       "      <th>3</th>\n",
       "      <td>France</td>\n",
       "      <td>32177039372</td>\n",
       "      <td>5.988407</td>\n",
       "    </tr>\n",
       "    <tr>\n",
       "      <th>4</th>\n",
       "      <td>Italy</td>\n",
       "      <td>28306588441</td>\n",
       "      <td>5.268085</td>\n",
       "    </tr>\n",
       "    <tr>\n",
       "      <th>5</th>\n",
       "      <td>South Korea</td>\n",
       "      <td>21786515369</td>\n",
       "      <td>4.054647</td>\n",
       "    </tr>\n",
       "    <tr>\n",
       "      <th>6</th>\n",
       "      <td>Argentina</td>\n",
       "      <td>18678951288</td>\n",
       "      <td>3.476304</td>\n",
       "    </tr>\n",
       "    <tr>\n",
       "      <th>7</th>\n",
       "      <td>Peru</td>\n",
       "      <td>10520125014</td>\n",
       "      <td>1.957880</td>\n",
       "    </tr>\n",
       "    <tr>\n",
       "      <th>8</th>\n",
       "      <td>Chile</td>\n",
       "      <td>9931757732</td>\n",
       "      <td>1.848380</td>\n",
       "    </tr>\n",
       "    <tr>\n",
       "      <th>9</th>\n",
       "      <td>Ecuador</td>\n",
       "      <td>4599104870</td>\n",
       "      <td>0.855931</td>\n",
       "    </tr>\n",
       "    <tr>\n",
       "      <th>10</th>\n",
       "      <td>Ukraine</td>\n",
       "      <td>4357666978</td>\n",
       "      <td>0.810997</td>\n",
       "    </tr>\n",
       "    <tr>\n",
       "      <th>11</th>\n",
       "      <td>Romania</td>\n",
       "      <td>4151784964</td>\n",
       "      <td>0.772681</td>\n",
       "    </tr>\n",
       "    <tr>\n",
       "      <th>12</th>\n",
       "      <td>Czechia</td>\n",
       "      <td>4104977325</td>\n",
       "      <td>0.763969</td>\n",
       "    </tr>\n",
       "    <tr>\n",
       "      <th>13</th>\n",
       "      <td>Japan</td>\n",
       "      <td>3910422920</td>\n",
       "      <td>0.727761</td>\n",
       "    </tr>\n",
       "    <tr>\n",
       "      <th>14</th>\n",
       "      <td>Switzerland</td>\n",
       "      <td>3691948362</td>\n",
       "      <td>0.687101</td>\n",
       "    </tr>\n",
       "    <tr>\n",
       "      <th>15</th>\n",
       "      <td>Spain</td>\n",
       "      <td>3262817401</td>\n",
       "      <td>0.607237</td>\n",
       "    </tr>\n",
       "    <tr>\n",
       "      <th>16</th>\n",
       "      <td>Hong Kong</td>\n",
       "      <td>2684669290</td>\n",
       "      <td>0.499639</td>\n",
       "    </tr>\n",
       "    <tr>\n",
       "      <th>17</th>\n",
       "      <td>Poland</td>\n",
       "      <td>1824070504</td>\n",
       "      <td>0.339474</td>\n",
       "    </tr>\n",
       "    <tr>\n",
       "      <th>18</th>\n",
       "      <td>Uruguay</td>\n",
       "      <td>1664572676</td>\n",
       "      <td>0.309790</td>\n",
       "    </tr>\n",
       "    <tr>\n",
       "      <th>19</th>\n",
       "      <td>Nepal</td>\n",
       "      <td>1343230706</td>\n",
       "      <td>0.249986</td>\n",
       "    </tr>\n",
       "    <tr>\n",
       "      <th>20</th>\n",
       "      <td>Netherlands</td>\n",
       "      <td>1116537275</td>\n",
       "      <td>0.207797</td>\n",
       "    </tr>\n",
       "    <tr>\n",
       "      <th>21</th>\n",
       "      <td>Belgium</td>\n",
       "      <td>834395863</td>\n",
       "      <td>0.155288</td>\n",
       "    </tr>\n",
       "    <tr>\n",
       "      <th>22</th>\n",
       "      <td>South Africa</td>\n",
       "      <td>820872071</td>\n",
       "      <td>0.152771</td>\n",
       "    </tr>\n",
       "    <tr>\n",
       "      <th>23</th>\n",
       "      <td>Portugal</td>\n",
       "      <td>701877350</td>\n",
       "      <td>0.130625</td>\n",
       "    </tr>\n",
       "    <tr>\n",
       "      <th>24</th>\n",
       "      <td>Sweden</td>\n",
       "      <td>629157444</td>\n",
       "      <td>0.117091</td>\n",
       "    </tr>\n",
       "    <tr>\n",
       "      <th>25</th>\n",
       "      <td>Austria</td>\n",
       "      <td>596514759</td>\n",
       "      <td>0.111016</td>\n",
       "    </tr>\n",
       "    <tr>\n",
       "      <th>26</th>\n",
       "      <td>Latvia</td>\n",
       "      <td>596129865</td>\n",
       "      <td>0.110945</td>\n",
       "    </tr>\n",
       "    <tr>\n",
       "      <th>27</th>\n",
       "      <td>Hungary</td>\n",
       "      <td>591312341</td>\n",
       "      <td>0.110048</td>\n",
       "    </tr>\n",
       "    <tr>\n",
       "      <th>28</th>\n",
       "      <td>Denmark</td>\n",
       "      <td>410370596</td>\n",
       "      <td>0.076373</td>\n",
       "    </tr>\n",
       "    <tr>\n",
       "      <th>29</th>\n",
       "      <td>Finland</td>\n",
       "      <td>373909900</td>\n",
       "      <td>0.069588</td>\n",
       "    </tr>\n",
       "    <tr>\n",
       "      <th>30</th>\n",
       "      <td>Norway</td>\n",
       "      <td>356592335</td>\n",
       "      <td>0.066365</td>\n",
       "    </tr>\n",
       "    <tr>\n",
       "      <th>31</th>\n",
       "      <td>Ireland</td>\n",
       "      <td>346279647</td>\n",
       "      <td>0.064445</td>\n",
       "    </tr>\n",
       "    <tr>\n",
       "      <th>32</th>\n",
       "      <td>Slovakia</td>\n",
       "      <td>223998563</td>\n",
       "      <td>0.041688</td>\n",
       "    </tr>\n",
       "    <tr>\n",
       "      <th>33</th>\n",
       "      <td>Croatia</td>\n",
       "      <td>180468380</td>\n",
       "      <td>0.033587</td>\n",
       "    </tr>\n",
       "    <tr>\n",
       "      <th>34</th>\n",
       "      <td>Lithuania</td>\n",
       "      <td>154484516</td>\n",
       "      <td>0.028751</td>\n",
       "    </tr>\n",
       "    <tr>\n",
       "      <th>35</th>\n",
       "      <td>Bulgaria</td>\n",
       "      <td>134238313</td>\n",
       "      <td>0.024983</td>\n",
       "    </tr>\n",
       "    <tr>\n",
       "      <th>36</th>\n",
       "      <td>Slovenia</td>\n",
       "      <td>99272786</td>\n",
       "      <td>0.018475</td>\n",
       "    </tr>\n",
       "    <tr>\n",
       "      <th>37</th>\n",
       "      <td>Estonia</td>\n",
       "      <td>70424761</td>\n",
       "      <td>0.013107</td>\n",
       "    </tr>\n",
       "    <tr>\n",
       "      <th>38</th>\n",
       "      <td>Cyprus</td>\n",
       "      <td>55063408</td>\n",
       "      <td>0.010248</td>\n",
       "    </tr>\n",
       "    <tr>\n",
       "      <th>39</th>\n",
       "      <td>Malta</td>\n",
       "      <td>42587205</td>\n",
       "      <td>0.007926</td>\n",
       "    </tr>\n",
       "    <tr>\n",
       "      <th>40</th>\n",
       "      <td>Luxembourg</td>\n",
       "      <td>37541839</td>\n",
       "      <td>0.006987</td>\n",
       "    </tr>\n",
       "    <tr>\n",
       "      <th>41</th>\n",
       "      <td>Iceland</td>\n",
       "      <td>4560663</td>\n",
       "      <td>0.000849</td>\n",
       "    </tr>\n",
       "    <tr>\n",
       "      <th>42</th>\n",
       "      <td>Liechtenstein</td>\n",
       "      <td>2299059</td>\n",
       "      <td>0.000428</td>\n",
       "    </tr>\n",
       "  </tbody>\n",
       "</table>\n",
       "</div>"
      ],
      "text/plain": [
       "          location  total_vaccinations  percentage_vaccination\n",
       "0   European Union        193020139251               35.922608\n",
       "1    United States        139944068653               26.044723\n",
       "2          Germany         38982830332                7.255020\n",
       "3           France         32177039372                5.988407\n",
       "4            Italy         28306588441                5.268085\n",
       "5      South Korea         21786515369                4.054647\n",
       "6        Argentina         18678951288                3.476304\n",
       "7             Peru         10520125014                1.957880\n",
       "8            Chile          9931757732                1.848380\n",
       "9          Ecuador          4599104870                0.855931\n",
       "10         Ukraine          4357666978                0.810997\n",
       "11         Romania          4151784964                0.772681\n",
       "12         Czechia          4104977325                0.763969\n",
       "13           Japan          3910422920                0.727761\n",
       "14     Switzerland          3691948362                0.687101\n",
       "15           Spain          3262817401                0.607237\n",
       "16       Hong Kong          2684669290                0.499639\n",
       "17          Poland          1824070504                0.339474\n",
       "18         Uruguay          1664572676                0.309790\n",
       "19           Nepal          1343230706                0.249986\n",
       "20     Netherlands          1116537275                0.207797\n",
       "21         Belgium           834395863                0.155288\n",
       "22    South Africa           820872071                0.152771\n",
       "23        Portugal           701877350                0.130625\n",
       "24          Sweden           629157444                0.117091\n",
       "25         Austria           596514759                0.111016\n",
       "26          Latvia           596129865                0.110945\n",
       "27         Hungary           591312341                0.110048\n",
       "28         Denmark           410370596                0.076373\n",
       "29         Finland           373909900                0.069588\n",
       "30          Norway           356592335                0.066365\n",
       "31         Ireland           346279647                0.064445\n",
       "32        Slovakia           223998563                0.041688\n",
       "33         Croatia           180468380                0.033587\n",
       "34       Lithuania           154484516                0.028751\n",
       "35        Bulgaria           134238313                0.024983\n",
       "36        Slovenia            99272786                0.018475\n",
       "37         Estonia            70424761                0.013107\n",
       "38          Cyprus            55063408                0.010248\n",
       "39           Malta            42587205                0.007926\n",
       "40      Luxembourg            37541839                0.006987\n",
       "41         Iceland             4560663                0.000849\n",
       "42   Liechtenstein             2299059                0.000428"
      ]
     },
     "execution_count": 17,
     "metadata": {},
     "output_type": "execute_result"
    }
   ],
   "source": [
    "vaccination_by_country[\"percentage_vaccination\"] = (vaccination_by_country[\"total_vaccinations\"]/sum(vaccination_by_country[\"total_vaccinations\"]))*100\n",
    "vaccination_by_country"
   ]
  },
  {
   "cell_type": "code",
   "execution_count": 18,
   "id": "3eb95373-4645-4e27-a307-a3e8b96b95cc",
   "metadata": {},
   "outputs": [
    {
     "data": {
      "text/plain": [
       "Text(0, 0.5, 'Percentage')"
      ]
     },
     "execution_count": 18,
     "metadata": {},
     "output_type": "execute_result"
    },
    {
     "data": {
      "image/png": "[encoded data removed]",
      "text/plain": [
       "<Figure size 1000x600 with 1 Axes>"
      ]
     },
     "metadata": {},
     "output_type": "display_data"
    }
   ],
   "source": [
    "vaccination_by_country.plot(\n",
    "    kind = \"bar\",\n",
    "    x = \"location\",\n",
    "    y = \"percentage_vaccination\",\n",
    "    figsize = (10,6)\n",
    ")\n",
    "plt.title(\"Percentage Share Of Country\")\n",
    "plt.xlabel(\"Country\")\n",
    "plt.ylabel(\"Percentage\")\n"
   ]
  },
  {
   "cell_type": "code",
   "execution_count": 19,
   "id": "f335d44c-e9c5-4264-8f8a-c0656a7ed117",
   "metadata": {},
   "outputs": [
    {
     "data": {
      "text/plain": [
       "location\n",
       "European Union    9\n",
       "Portugal          8\n",
       "Latvia            7\n",
       "Hungary           6\n",
       "Argentina         6\n",
       "Name: vaccine, dtype: int64"
      ]
     },
     "execution_count": 19,
     "metadata": {},
     "output_type": "execute_result"
    }
   ],
   "source": [
    "# Countries that used the highest number of different manufacturers.\n",
    "vaccine_used_by_country = df.groupby(\"location\")[\"vaccine\"].nunique().sort_values(ascending = False)\n",
    "vaccine_used_by_country.head()"
   ]
  },
  {
   "cell_type": "code",
   "execution_count": 20,
   "id": "2606f7b9-9e3f-43d8-ba50-5bf57de9e1fc",
   "metadata": {},
   "outputs": [],
   "source": [
    "# Country that started earliest and country that started latest.\n",
    "country_date = df.groupby(\"location\")[\"date\"].min().sort_values()\n",
    "earliest = country_date.head(1)\n",
    "latest = country_date.tail(1)"
   ]
  },
  {
   "cell_type": "code",
   "execution_count": 21,
   "id": "242d9752-ea23-46da-835c-a37bd87d455f",
   "metadata": {},
   "outputs": [
    {
     "data": {
      "text/plain": [
       "[location\n",
       " Latvia    2020-12-04\n",
       " Name: date, dtype: object,\n",
       " location\n",
       " South Africa    2022-03-04\n",
       " Name: date, dtype: object]"
      ]
     },
     "execution_count": 21,
     "metadata": {},
     "output_type": "execute_result"
    }
   ],
   "source": [
    "[earliest,latest]"
   ]
  },
  {
   "cell_type": "code",
   "execution_count": 22,
   "id": "d458c6c5-1281-440e-b380-a91188395e60",
   "metadata": {},
   "outputs": [],
   "source": [
    "# 4. Manufacturer-Level Insights"
   ]
  },
  {
   "cell_type": "code",
   "execution_count": 23,
   "id": "a02cb006-5116-46ed-8f7e-e04172ec19d1",
   "metadata": {},
   "outputs": [
    {
     "data": {
      "text/plain": [
       "vaccine\n",
       "Pfizer/BioNTech       344835955037\n",
       "Moderna               103072147621\n",
       "Oxford/AstraZeneca     46451509497\n",
       "Sinovac                13407163275\n",
       "Johnson&Johnson        12611375881\n",
       "Sinopharm/Beijing      10877006517\n",
       "Sputnik V               5787343199\n",
       "CanSino                  271397675\n",
       "Novavax                    8268113\n",
       "Covaxin                       3572\n",
       "Name: total_vaccinations, dtype: int64"
      ]
     },
     "execution_count": 23,
     "metadata": {},
     "output_type": "execute_result"
    }
   ],
   "source": [
    "# Total vaccinations per manufacturer (global).\n",
    "vaccinations_per_company = df.groupby(\"vaccine\")[\"total_vaccinations\"].sum().sort_values(ascending = False)\n",
    "vaccinations_per_company"
   ]
  },
  {
   "cell_type": "code",
   "execution_count": 24,
   "id": "8f86b372-0db3-4d2e-a0ea-7b195d7d9521",
   "metadata": {},
   "outputs": [
    {
     "data": {
      "text/html": [
       "<div>\n",
       "<style scoped>\n",
       "    .dataframe tbody tr th:only-of-type {\n",
       "        vertical-align: middle;\n",
       "    }\n",
       "\n",
       "    .dataframe tbody tr th {\n",
       "        vertical-align: top;\n",
       "    }\n",
       "\n",
       "    .dataframe thead th {\n",
       "        text-align: right;\n",
       "    }\n",
       "</style>\n",
       "<table border=\"1\" class=\"dataframe\">\n",
       "  <thead>\n",
       "    <tr style=\"text-align: right;\">\n",
       "      <th></th>\n",
       "      <th>vaccine</th>\n",
       "      <th>num_countries</th>\n",
       "    </tr>\n",
       "  </thead>\n",
       "  <tbody>\n",
       "    <tr>\n",
       "      <th>0</th>\n",
       "      <td>Pfizer/BioNTech</td>\n",
       "      <td>43</td>\n",
       "    </tr>\n",
       "    <tr>\n",
       "      <th>1</th>\n",
       "      <td>Moderna</td>\n",
       "      <td>37</td>\n",
       "    </tr>\n",
       "    <tr>\n",
       "      <th>2</th>\n",
       "      <td>Oxford/AstraZeneca</td>\n",
       "      <td>37</td>\n",
       "    </tr>\n",
       "    <tr>\n",
       "      <th>3</th>\n",
       "      <td>Johnson&amp;Johnson</td>\n",
       "      <td>35</td>\n",
       "    </tr>\n",
       "    <tr>\n",
       "      <th>4</th>\n",
       "      <td>Novavax</td>\n",
       "      <td>18</td>\n",
       "    </tr>\n",
       "    <tr>\n",
       "      <th>5</th>\n",
       "      <td>Sinovac</td>\n",
       "      <td>8</td>\n",
       "    </tr>\n",
       "    <tr>\n",
       "      <th>6</th>\n",
       "      <td>Sinopharm/Beijing</td>\n",
       "      <td>7</td>\n",
       "    </tr>\n",
       "    <tr>\n",
       "      <th>7</th>\n",
       "      <td>Sputnik V</td>\n",
       "      <td>4</td>\n",
       "    </tr>\n",
       "    <tr>\n",
       "      <th>8</th>\n",
       "      <td>CanSino</td>\n",
       "      <td>3</td>\n",
       "    </tr>\n",
       "    <tr>\n",
       "      <th>9</th>\n",
       "      <td>Covaxin</td>\n",
       "      <td>2</td>\n",
       "    </tr>\n",
       "  </tbody>\n",
       "</table>\n",
       "</div>"
      ],
      "text/plain": [
       "              vaccine  num_countries\n",
       "0     Pfizer/BioNTech             43\n",
       "1             Moderna             37\n",
       "2  Oxford/AstraZeneca             37\n",
       "3     Johnson&Johnson             35\n",
       "4             Novavax             18\n",
       "5             Sinovac              8\n",
       "6   Sinopharm/Beijing              7\n",
       "7           Sputnik V              4\n",
       "8             CanSino              3\n",
       "9             Covaxin              2"
      ]
     },
     "execution_count": 24,
     "metadata": {},
     "output_type": "execute_result"
    }
   ],
   "source": [
    "# Manufacturer used in the most number of countries.\n",
    "manufacture_by_country = df.groupby(\"vaccine\")[\"location\"].nunique().sort_values(ascending = False).reset_index().rename(columns={\"location\": \"num_countries\"})\n",
    "manufacture_by_country"
   ]
  },
  {
   "cell_type": "code",
   "execution_count": 25,
   "id": "46d39cf3-ac43-4ca1-9fef-a59fdd89832a",
   "metadata": {},
   "outputs": [
    {
     "data": {
      "text/plain": [
       "Text(0.5, 0, 'Number of Country')"
      ]
     },
     "execution_count": 25,
     "metadata": {},
     "output_type": "execute_result"
    },
    {
     "data": {
      "image/png": "[encoded data removed]",
      "text/plain": [
       "<Figure size 1000x600 with 1 Axes>"
      ]
     },
     "metadata": {},
     "output_type": "display_data"
    }
   ],
   "source": [
    "manufacture_by_country.plot(\n",
    "    x = \"vaccine\",\n",
    "    y = \"num_countries\",\n",
    "    kind = \"barh\",\n",
    "    figsize = (10,6),\n",
    "    legend = False\n",
    ")\n",
    "plt.title(\"Manufacturer Per Country\")\n",
    "plt.ylabel(\"Manufacturer\")\n",
    "plt.xlabel(\"Number of Country\")\n"
   ]
  },
  {
   "cell_type": "code",
   "execution_count": 26,
   "id": "ca920f1c-9d8c-471d-9b97-28fe535b8fe2",
   "metadata": {},
   "outputs": [
    {
     "name": "stdout",
     "output_type": "stream",
     "text": [
      "              vaccine  total_vaccinations\n",
      "0     Pfizer/BioNTech        344835955037\n",
      "1             Moderna        103072147621\n",
      "2  Oxford/AstraZeneca         46451509497\n"
     ]
    }
   ],
   "source": [
    "# Top 3 most widely used vaccines.\n",
    "# vaccinations_per_company = df.groupby(\"vaccine\")[\"total_vaccinations\"].sum().sort_values(ascending = False)\n",
    "# vaccinations_per_company.head(3)\n",
    "vaccinations_per_company = (\n",
    "    df.groupby(\"vaccine\")[\"total_vaccinations\"]\n",
    "    .sum()\n",
    "    .sort_values(ascending=False)\n",
    "    .reset_index()\n",
    ")\n",
    "\n",
    "print(vaccinations_per_company.head(3))\n"
   ]
  },
  {
   "cell_type": "code",
   "execution_count": 27,
   "id": "6d11fcef-2d67-4e72-a30e-097024007c63",
   "metadata": {},
   "outputs": [
    {
     "data": {
      "image/png": "[encoded data removed]",
      "text/plain": [
       "<Figure size 1000x600 with 1 Axes>"
      ]
     },
     "metadata": {},
     "output_type": "display_data"
    }
   ],
   "source": [
    "vaccinations_per_company.plot(\n",
    "    x=\"vaccine\",\n",
    "    y=\"total_vaccinations\",\n",
    "    kind=\"bar\",\n",
    "    figsize=(10,6),\n",
    "    legend=False\n",
    ")\n",
    "\n",
    "plt.title(\"Total Vaccinations by Manufacturer\")\n",
    "plt.xlabel(\"Vaccine Manufacturer\")\n",
    "plt.ylabel(\"Total Vaccinations (in billions)\")\n",
    "plt.xticks(rotation=45, ha=\"right\")\n",
    "plt.tight_layout()\n",
    "plt.show()"
   ]
  },
  {
   "cell_type": "code",
   "execution_count": 28,
   "id": "5140f9c3-814a-4429-9183-1d55770cf79e",
   "metadata": {},
   "outputs": [],
   "source": [
    "# European Union Analysis"
   ]
  },
  {
   "cell_type": "code",
   "execution_count": 29,
   "id": "02cbfd74-0b25-4a10-ab66-735c84497598",
   "metadata": {},
   "outputs": [
    {
     "data": {
      "text/html": [
       "<div>\n",
       "<style scoped>\n",
       "    .dataframe tbody tr th:only-of-type {\n",
       "        vertical-align: middle;\n",
       "    }\n",
       "\n",
       "    .dataframe tbody tr th {\n",
       "        vertical-align: top;\n",
       "    }\n",
       "\n",
       "    .dataframe thead th {\n",
       "        text-align: right;\n",
       "    }\n",
       "</style>\n",
       "<table border=\"1\" class=\"dataframe\">\n",
       "  <thead>\n",
       "    <tr style=\"text-align: right;\">\n",
       "      <th></th>\n",
       "      <th>location</th>\n",
       "      <th>date</th>\n",
       "      <th>vaccine</th>\n",
       "      <th>total_vaccinations</th>\n",
       "    </tr>\n",
       "  </thead>\n",
       "  <tbody>\n",
       "    <tr>\n",
       "      <th>31501</th>\n",
       "      <td>European Union</td>\n",
       "      <td>2020-12-27</td>\n",
       "      <td>Covaxin</td>\n",
       "      <td>0</td>\n",
       "    </tr>\n",
       "    <tr>\n",
       "      <th>31502</th>\n",
       "      <td>European Union</td>\n",
       "      <td>2020-12-27</td>\n",
       "      <td>Johnson&amp;Johnson</td>\n",
       "      <td>0</td>\n",
       "    </tr>\n",
       "    <tr>\n",
       "      <th>31503</th>\n",
       "      <td>European Union</td>\n",
       "      <td>2020-12-27</td>\n",
       "      <td>Moderna</td>\n",
       "      <td>14</td>\n",
       "    </tr>\n",
       "    <tr>\n",
       "      <th>31504</th>\n",
       "      <td>European Union</td>\n",
       "      <td>2020-12-27</td>\n",
       "      <td>Novavax</td>\n",
       "      <td>0</td>\n",
       "    </tr>\n",
       "    <tr>\n",
       "      <th>31505</th>\n",
       "      <td>European Union</td>\n",
       "      <td>2020-12-27</td>\n",
       "      <td>Oxford/AstraZeneca</td>\n",
       "      <td>1</td>\n",
       "    </tr>\n",
       "    <tr>\n",
       "      <th>...</th>\n",
       "      <td>...</td>\n",
       "      <td>...</td>\n",
       "      <td>...</td>\n",
       "      <td>...</td>\n",
       "    </tr>\n",
       "    <tr>\n",
       "      <th>35618</th>\n",
       "      <td>European Union</td>\n",
       "      <td>2022-03-29</td>\n",
       "      <td>Oxford/AstraZeneca</td>\n",
       "      <td>67403106</td>\n",
       "    </tr>\n",
       "    <tr>\n",
       "      <th>35619</th>\n",
       "      <td>European Union</td>\n",
       "      <td>2022-03-29</td>\n",
       "      <td>Pfizer/BioNTech</td>\n",
       "      <td>600519998</td>\n",
       "    </tr>\n",
       "    <tr>\n",
       "      <th>35620</th>\n",
       "      <td>European Union</td>\n",
       "      <td>2022-03-29</td>\n",
       "      <td>Sinopharm/Beijing</td>\n",
       "      <td>2301516</td>\n",
       "    </tr>\n",
       "    <tr>\n",
       "      <th>35621</th>\n",
       "      <td>European Union</td>\n",
       "      <td>2022-03-29</td>\n",
       "      <td>Sinovac</td>\n",
       "      <td>1809</td>\n",
       "    </tr>\n",
       "    <tr>\n",
       "      <th>35622</th>\n",
       "      <td>European Union</td>\n",
       "      <td>2022-03-29</td>\n",
       "      <td>Sputnik V</td>\n",
       "      <td>1845103</td>\n",
       "    </tr>\n",
       "  </tbody>\n",
       "</table>\n",
       "<p>4122 rows × 4 columns</p>\n",
       "</div>"
      ],
      "text/plain": [
       "             location        date             vaccine  total_vaccinations\n",
       "31501  European Union  2020-12-27             Covaxin                   0\n",
       "31502  European Union  2020-12-27     Johnson&Johnson                   0\n",
       "31503  European Union  2020-12-27             Moderna                  14\n",
       "31504  European Union  2020-12-27             Novavax                   0\n",
       "31505  European Union  2020-12-27  Oxford/AstraZeneca                   1\n",
       "...               ...         ...                 ...                 ...\n",
       "35618  European Union  2022-03-29  Oxford/AstraZeneca            67403106\n",
       "35619  European Union  2022-03-29     Pfizer/BioNTech           600519998\n",
       "35620  European Union  2022-03-29   Sinopharm/Beijing             2301516\n",
       "35621  European Union  2022-03-29             Sinovac                1809\n",
       "35622  European Union  2022-03-29           Sputnik V             1845103\n",
       "\n",
       "[4122 rows x 4 columns]"
      ]
     },
     "execution_count": 29,
     "metadata": {},
     "output_type": "execute_result"
    }
   ],
   "source": [
    "europe = df[df[\"location\"] == \"European Union\"]\n",
    "europe"
   ]
  },
  {
   "cell_type": "code",
   "execution_count": 41,
   "id": "4a095180-91a4-422f-9e9e-d50e540be55b",
   "metadata": {},
   "outputs": [
    {
     "data": {
      "text/html": [
       "<div>\n",
       "<style scoped>\n",
       "    .dataframe tbody tr th:only-of-type {\n",
       "        vertical-align: middle;\n",
       "    }\n",
       "\n",
       "    .dataframe tbody tr th {\n",
       "        vertical-align: top;\n",
       "    }\n",
       "\n",
       "    .dataframe thead th {\n",
       "        text-align: right;\n",
       "    }\n",
       "</style>\n",
       "<table border=\"1\" class=\"dataframe\">\n",
       "  <thead>\n",
       "    <tr style=\"text-align: right;\">\n",
       "      <th></th>\n",
       "      <th>vaccine</th>\n",
       "      <th>total_vaccinations</th>\n",
       "      <th>share_by_manufacturer</th>\n",
       "    </tr>\n",
       "  </thead>\n",
       "  <tbody>\n",
       "    <tr>\n",
       "      <th>0</th>\n",
       "      <td>Pfizer/BioNTech</td>\n",
       "      <td>141033652111</td>\n",
       "      <td>73.066807</td>\n",
       "    </tr>\n",
       "    <tr>\n",
       "      <th>1</th>\n",
       "      <td>Moderna</td>\n",
       "      <td>24391892210</td>\n",
       "      <td>12.636967</td>\n",
       "    </tr>\n",
       "    <tr>\n",
       "      <th>2</th>\n",
       "      <td>Oxford/AstraZeneca</td>\n",
       "      <td>21700612979</td>\n",
       "      <td>11.242668</td>\n",
       "    </tr>\n",
       "    <tr>\n",
       "      <th>3</th>\n",
       "      <td>Johnson&amp;Johnson</td>\n",
       "      <td>4519774120</td>\n",
       "      <td>2.341608</td>\n",
       "    </tr>\n",
       "    <tr>\n",
       "      <th>4</th>\n",
       "      <td>Sinopharm/Beijing</td>\n",
       "      <td>743871062</td>\n",
       "      <td>0.385385</td>\n",
       "    </tr>\n",
       "    <tr>\n",
       "      <th>5</th>\n",
       "      <td>Sputnik V</td>\n",
       "      <td>627748875</td>\n",
       "      <td>0.325225</td>\n",
       "    </tr>\n",
       "    <tr>\n",
       "      <th>6</th>\n",
       "      <td>Novavax</td>\n",
       "      <td>2066859</td>\n",
       "      <td>0.001071</td>\n",
       "    </tr>\n",
       "    <tr>\n",
       "      <th>7</th>\n",
       "      <td>Sinovac</td>\n",
       "      <td>517529</td>\n",
       "      <td>0.000268</td>\n",
       "    </tr>\n",
       "    <tr>\n",
       "      <th>8</th>\n",
       "      <td>Covaxin</td>\n",
       "      <td>3506</td>\n",
       "      <td>0.000002</td>\n",
       "    </tr>\n",
       "  </tbody>\n",
       "</table>\n",
       "</div>"
      ],
      "text/plain": [
       "              vaccine  total_vaccinations  share_by_manufacturer\n",
       "0     Pfizer/BioNTech        141033652111              73.066807\n",
       "1             Moderna         24391892210              12.636967\n",
       "2  Oxford/AstraZeneca         21700612979              11.242668\n",
       "3     Johnson&Johnson          4519774120               2.341608\n",
       "4   Sinopharm/Beijing           743871062               0.385385\n",
       "5           Sputnik V           627748875               0.325225\n",
       "6             Novavax             2066859               0.001071\n",
       "7             Sinovac              517529               0.000268\n",
       "8             Covaxin                3506               0.000002"
      ]
     },
     "execution_count": 41,
     "metadata": {},
     "output_type": "execute_result"
    }
   ],
   "source": [
    "# Manufacturer Market Share in EU\n",
    "\n",
    "# Compare total vaccinations by manufacturer within EU.\n",
    "\n",
    "# Insight: Which vaccine dominated (Pfizer, AstraZeneca, etc.), and what % each contributed.\n",
    "eu_manufacturer = europe.groupby(\"vaccine\")[\"total_vaccinations\"].sum().sort_values(ascending = False).reset_index()\n",
    "eu_manufacturer[\"share_by_manufacturer\"] = (eu_manufacturer[\"total_vaccinations\"]/sum(eu_manufacturer[\"total_vaccinations\"]))*100\n",
    "eu_manufacturer"
   ]
  },
  {
   "cell_type": "code",
   "execution_count": 45,
   "id": "009f1063-95fd-4045-9bf2-c51e9dec4143",
   "metadata": {},
   "outputs": [],
   "source": [
    "limit = 0.01\n",
    "small = eu_manufacturer[eu_manufacturer[\"share_by_manufacturer\"] < limit]\n",
    "large = eu_manufacturer[eu_manufacturer[\"share_by_manufacturer\"] >= limit]\n",
    "others = pd.DataFrame({\n",
    "    \"vaccine\": [\"Others\"],\n",
    "    \"share_by_manufacturer\": [small[\"share_by_manufacturer\"].sum()]\n",
    "})\n",
    "pie_data = pd.concat([large, others]).reset_index()\n",
    "\n",
    "  \n",
    "                  \n"
   ]
  },
  {
   "cell_type": "code",
   "execution_count": 59,
   "id": "ec8921c9-5b4b-44d1-ad0c-3114f951f14b",
   "metadata": {},
   "outputs": [],
   "source": [
    "# pie_data.set_index(\"vaccine\")[\"share_by_manufacturer\"].plot(\n",
    "#     kind=\"pie\",\n",
    "#     figsize=(8,8),\n",
    "#     autopct=\"%1.1f%%\",\n",
    "#     startangle=90,\n",
    "#     ylabel=\"\",\n",
    "#     label = None\n",
    "# )\n",
    "# plt.title(\"EU Vaccine Market Share (Grouped Small Values as Others)\")\n",
    "# plt.legend(title=\"Manufacturer\", bbox_to_anchor=(1.2, 0.8))\n",
    "# plt.show()"
   ]
  },
  {
   "cell_type": "code",
   "execution_count": 51,
   "id": "15a6ab26-1c50-4c22-8e3c-918b1d530374",
   "metadata": {},
   "outputs": [
    {
     "data": {
      "image/png": "[encoded data removed]",
      "text/plain": [
       "<Figure size 800x800 with 1 Axes>"
      ]
     },
     "metadata": {},
     "output_type": "display_data"
    }
   ],
   "source": [
    "ax = pie_data.set_index(\"vaccine\")[\"share_by_manufacturer\"].plot(\n",
    "    kind=\"pie\",\n",
    "    figsize=(8,8),\n",
    "    autopct=\"%1.1f%%\",   # show % values\n",
    "    startangle=90,\n",
    "    ylabel=\"\",           # remove default ylabel\n",
    "    legend=False,        # don’t let pandas auto-legend\n",
    "    labels=None          # remove labels from slices\n",
    ")\n",
    "\n",
    "# Add legend separately\n",
    "plt.legend(\n",
    "    labels=pie_data[\"vaccine\"], \n",
    "    title=\"Manufacturer\", \n",
    "    bbox_to_anchor=(1.1, 0.9)\n",
    ")\n",
    "\n",
    "plt.title(\"EU Vaccine Market Share (Grouped Small Values as Others)\")\n",
    "plt.show()\n"
   ]
  },
  {
   "cell_type": "code",
   "execution_count": 56,
   "id": "c6bc7b72-fbdb-41fb-9041-f50ce8728ffb",
   "metadata": {},
   "outputs": [],
   "source": [
    "# eu_manufacturer.set_index(\"vaccine\")[\"share_by_manufacturer\"].plot(\n",
    "#     kind=\"pie\",\n",
    "#     figsize=(8,8),\n",
    "#     autopct=\"%1.1f%%\",\n",
    "#     startangle=90,\n",
    "#     ylabel=\"\"\n",
    "# )\n",
    "# plt.title(\"EU Vaccine Market Share\")\n",
    "# plt.legend(title=\"Manufacturer\", bbox_to_anchor=(1.2, 0.8))\n",
    "# plt.show()\n"
   ]
  },
  {
   "cell_type": "code",
   "execution_count": 68,
   "id": "757ad7fb-7f1b-4551-9108-6d600fb22ef3",
   "metadata": {},
   "outputs": [
    {
     "data": {
      "image/png": "[encoded data removed]",
      "text/plain": [
       "<Figure size 1200x600 with 1 Axes>"
      ]
     },
     "metadata": {},
     "output_type": "display_data"
    }
   ],
   "source": [
    "# EU Vaccination Rollout Over Time\n",
    "europe.sort_values(\"date\")\n",
    "plt.figure(figsize=(12,6))\n",
    "plt.plot(europe[\"date\"], europe[\"total_vaccinations\"], marker=\"o\", linestyle=\"-\", color=\"blue\")\n",
    "\n",
    "plt.title(\"EU Vaccination Rollout Over Time\")\n",
    "plt.xlabel(\"Date\")\n",
    "plt.ylabel(\"Total Vaccinations\")\n",
    "plt.ticklabel_format(style='plain', axis='y')\n",
    "\n",
    "plt.xticks(rotation=45)\n",
    "plt.grid(True)\n",
    "plt.show()"
   ]
  },
  {
   "cell_type": "code",
   "execution_count": null,
   "id": "a4afd37c-5f77-45a9-8e76-7214b6558aa9",
   "metadata": {},
   "outputs": [],
   "source": []
  },
  {
   "cell_type": "code",
   "execution_count": null,
   "id": "3ee60e6a-3e4d-425f-b4dc-fff479cef466",
   "metadata": {},
   "outputs": [],
   "source": []
  },
  {
   "cell_type": "code",
   "execution_count": null,
   "id": "921e8794-8ad5-4db6-ab67-41bd1797546c",
   "metadata": {},
   "outputs": [],
   "source": []
  },
  {
   "cell_type": "code",
   "execution_count": null,
   "id": "d98e0e41-9c74-4552-b481-76de3156600e",
   "metadata": {},
   "outputs": [],
   "source": []
  }
 ],
 "metadata": {
  "kernelspec": {
   "display_name": "Python 3 (ipykernel)",
   "language": "python",
   "name": "python3"
  },
  "language_info": {
   "codemirror_mode": {
    "name": "ipython",
    "version": 3
   },
   "file_extension": ".py",
   "mimetype": "text/x-python",
   "name": "python",
   "nbconvert_exporter": "python",
   "pygments_lexer": "ipython3",
   "version": "3.12.6"
  }
 },
 "nbformat": 4,
 "nbformat_minor": 5
}
